{
 "cells": [
  {
   "cell_type": "markdown",
   "metadata": {},
   "source": [
    "## The Battle of Neighborhoods - Hyderabad - Final Report"
   ]
  },
  {
   "cell_type": "markdown",
   "metadata": {},
   "source": [
    "## Introduction & Business Problem:"
   ]
  },
  {
   "cell_type": "markdown",
   "metadata": {},
   "source": [
    "A retail company wants to set up supermarket stores in Hyderabad city but is not exactly sure about which Neighborhood(s) to open the store(s) in. The chosen locations should ideally have a considerable population so that there is more store footfall & near to work centers/residential districts for easier access to a large number of citizens.\n",
    "There are 2 business questions that need to be answered.\n",
    "1. Which part (area) of the city should the company open the supermarket first.\n",
    "2. Which Neighborhood(s) would be ideal in that part (as in point 1) setting up such a supermarket in the city.\n",
    "The company would ideally prefer to open the store/s in Neighborhoods where there is a comparatively lower real estate prices (not absolutely low). But the same time, they want to choose the Neighborhoods with a high population and more number of venues, since it should result in more footfall for the store. When we consider the business problem, we can create a map and information chart where the real estate prices are placed on Hyderabad and each area is clustered according to the venue density."
   ]
  },
  {
   "cell_type": "markdown",
   "metadata": {},
   "source": [
    "## Background :"
   ]
  },
  {
   "cell_type": "markdown",
   "metadata": {},
   "source": [
    "I have selected Hyderabad for my project since I am familiar with the same, being a resident of the city. Hyderabad district is a metropolitan with a population of roughly 5 million and 150 Neighborhoods (GHMC) . The city has a high population and population density. Being a crowded city leads the owners of shops and social sharing places in the city where the population is dense. This clustering will ensure that Neighborhoods with moderate real estate price and more number of venues will be in single clustered together and hence would be used to answer the business problem."
   ]
  },
  {
   "cell_type": "markdown",
   "metadata": {},
   "source": [
    "## Data Description"
   ]
  },
  {
   "cell_type": "markdown",
   "metadata": {},
   "source": [
    "In order to solve the business problem, I have decided to use the following data as listed below, which includes the Foursquare Location data API.\n",
    "Geographical co-ordinates data of Neighborhoods in Hyderabad city by zip code from GitHub repository.\n",
    "Source : https://github.com/sanand0/pincode/blob/master/data/IN.csv\n",
    "Venue data for each Neighborhood in the city using Foursquare API. I included venues within a 1000 meter radius from each neighborhood.\n",
    "The data helps us to identify similar Neighborhoods using venues and also helps in clustering algorithm.\n",
    "Geo-Json data for GHMC (Hyderabad Municipality) for Choropleth Maps (to show real estate prices).\n",
    "Use:\n",
    "Mapping Neighborhoods on Folium Map. Generating centers for each Neighborhood using geo co-ordinates.\n",
    "The data helps us to show real estate prices on Choropleth/Folium Maps.\n",
    "Average House prices (per square feet) for each Neighborhood in Hyderabad city.\n",
    "Source: https://www.makaan.com/price-trends/property-rates-for-buy-in-hyderabad\n",
    "Use:\n",
    "The data helps us to show real estate prices on Choropleth Maps and to identify potential Neighborhoods where stores can be opened."
   ]
  },
  {
   "cell_type": "markdown",
   "metadata": {},
   "source": [
    "## Problem Statement"
   ]
  },
  {
   "cell_type": "markdown",
   "metadata": {},
   "source": [
    "1. Which part (area) of the city should the company open the supermarket first.\n",
    "2. Which Neighborhood(s) would be ideal in that part (as in point 1) setting up such a supermarket in the city"
   ]
  },
  {
   "cell_type": "markdown",
   "metadata": {},
   "source": [
    "### Load all necessary libraries"
   ]
  },
  {
   "cell_type": "code",
   "execution_count": 1,
   "metadata": {},
   "outputs": [
    {
     "name": "stdout",
     "output_type": "stream",
     "text": [
      "Libraries imported.\n"
     ]
    }
   ],
   "source": [
    "import numpy as np # library to handle data in a vectorized manner\n",
    "\n",
    "import pandas as pd # library for data analsysis\n",
    "pd.set_option('display.max_columns', None)\n",
    "pd.set_option('display.max_rows', None)\n",
    "\n",
    "import json # library to handle JSON files\n",
    "\n",
    "#!conda install -c conda-forge geopy --yes # uncomment this line if you haven't completed the Foursquare API lab\n",
    "from geopy.geocoders import Nominatim # convert an address into latitude and longitude values\n",
    "\n",
    "import requests # library to handle requests\n",
    "from pandas.io.json import json_normalize # tranform JSON file into a pandas dataframe\n",
    "\n",
    "# Matplotlib and associated plotting modules\n",
    "import matplotlib.cm as cm\n",
    "import matplotlib.colors as colors\n",
    "\n",
    "# import k-means from clustering stage\n",
    "from sklearn.cluster import KMeans\n",
    "\n",
    "#!conda install -c conda-forge folium=0.5.0 --yes # uncomment this line if you haven't completed the Foursquare API lab\n",
    "import folium # map rendering library\n",
    "\n",
    "from bs4 import BeautifulSoup\n",
    "\n",
    "print('Libraries imported.')"
   ]
  },
  {
   "cell_type": "markdown",
   "metadata": {},
   "source": [
    "### Downloading and exploring dataset"
   ]
  },
  {
   "cell_type": "code",
   "execution_count": 33,
   "metadata": {},
   "outputs": [
    {
     "data": {
      "text/html": [
       "<div>\n",
       "<style scoped>\n",
       "    .dataframe tbody tr th:only-of-type {\n",
       "        vertical-align: middle;\n",
       "    }\n",
       "\n",
       "    .dataframe tbody tr th {\n",
       "        vertical-align: top;\n",
       "    }\n",
       "\n",
       "    .dataframe thead th {\n",
       "        text-align: right;\n",
       "    }\n",
       "</style>\n",
       "<table border=\"1\" class=\"dataframe\">\n",
       "  <thead>\n",
       "    <tr style=\"text-align: right;\">\n",
       "      <th></th>\n",
       "      <th>key</th>\n",
       "      <th>place_name</th>\n",
       "      <th>admin_name1</th>\n",
       "      <th>latitude</th>\n",
       "      <th>longitude</th>\n",
       "      <th>accuracy</th>\n",
       "    </tr>\n",
       "  </thead>\n",
       "  <tbody>\n",
       "    <tr>\n",
       "      <th>0</th>\n",
       "      <td>IN/110001</td>\n",
       "      <td>Connaught Place</td>\n",
       "      <td>New Delhi</td>\n",
       "      <td>28.6333</td>\n",
       "      <td>77.2167</td>\n",
       "      <td>4.0</td>\n",
       "    </tr>\n",
       "    <tr>\n",
       "      <th>1</th>\n",
       "      <td>IN/110002</td>\n",
       "      <td>Darya Ganj</td>\n",
       "      <td>New Delhi</td>\n",
       "      <td>28.6333</td>\n",
       "      <td>77.2500</td>\n",
       "      <td>4.0</td>\n",
       "    </tr>\n",
       "    <tr>\n",
       "      <th>2</th>\n",
       "      <td>IN/110003</td>\n",
       "      <td>Aliganj</td>\n",
       "      <td>New Delhi</td>\n",
       "      <td>28.6500</td>\n",
       "      <td>77.2167</td>\n",
       "      <td>NaN</td>\n",
       "    </tr>\n",
       "    <tr>\n",
       "      <th>3</th>\n",
       "      <td>IN/110004</td>\n",
       "      <td>Rashtrapati Bhawan</td>\n",
       "      <td>New Delhi</td>\n",
       "      <td>28.6500</td>\n",
       "      <td>77.2167</td>\n",
       "      <td>NaN</td>\n",
       "    </tr>\n",
       "    <tr>\n",
       "      <th>4</th>\n",
       "      <td>IN/110005</td>\n",
       "      <td>Lower Camp Anand Parbat</td>\n",
       "      <td>New Delhi</td>\n",
       "      <td>28.6500</td>\n",
       "      <td>77.2000</td>\n",
       "      <td>NaN</td>\n",
       "    </tr>\n",
       "  </tbody>\n",
       "</table>\n",
       "</div>"
      ],
      "text/plain": [
       "         key               place_name admin_name1  latitude  longitude  \\\n",
       "0  IN/110001          Connaught Place   New Delhi   28.6333    77.2167   \n",
       "1  IN/110002               Darya Ganj   New Delhi   28.6333    77.2500   \n",
       "2  IN/110003                  Aliganj   New Delhi   28.6500    77.2167   \n",
       "3  IN/110004       Rashtrapati Bhawan   New Delhi   28.6500    77.2167   \n",
       "4  IN/110005  Lower Camp Anand Parbat   New Delhi   28.6500    77.2000   \n",
       "\n",
       "   accuracy  \n",
       "0       4.0  \n",
       "1       4.0  \n",
       "2       NaN  \n",
       "3       NaN  \n",
       "4       NaN  "
      ]
     },
     "execution_count": 33,
     "metadata": {},
     "output_type": "execute_result"
    }
   ],
   "source": [
    "url = \"https://raw.githubusercontent.com/sanand0/pincode/master/data/IN.csv\"\n",
    "hyderabad_data = pd.read_csv(url,delimiter = ',')\n",
    "hyderabad_data.head()"
   ]
  },
  {
   "cell_type": "code",
   "execution_count": 34,
   "metadata": {},
   "outputs": [
    {
     "data": {
      "text/plain": [
       "(11042, 6)"
      ]
     },
     "execution_count": 34,
     "metadata": {},
     "output_type": "execute_result"
    }
   ],
   "source": [
    "hyderabad_data.shape"
   ]
  },
  {
   "cell_type": "code",
   "execution_count": 35,
   "metadata": {},
   "outputs": [
    {
     "name": "stdout",
     "output_type": "stream",
     "text": [
      "Collecting package metadata (current_repodata.json): ...working... done\n",
      "Solving environment: ...working... \n",
      "Warning: 4 possible package resolutions (only showing differing packages):\n",
      "  - anaconda/win-64::ca-certificates-2020.1.1-0, anaconda/win-64::openssl-1.1.1d-he774522_4\n",
      "  - anaconda/win-64::openssl-1.1.1d-he774522_4, defaults/win-64::ca-certificates-2020.1.1-0\n",
      "  - anaconda/win-64::ca-certificates-2020.1.1-0, defaults/win-64::openssl-1.1.1d-he774522_4\n",
      "  - defaults/win-64::ca-certificates-2020.1.1-0, defaults/win-64::openssl-1.1.1d-he774522_4done\n",
      "\n",
      "# All requested packages already installed.\n",
      "\n"
     ]
    }
   ],
   "source": [
    "!conda install -c conda-forge geopy --yes"
   ]
  },
  {
   "cell_type": "code",
   "execution_count": 36,
   "metadata": {},
   "outputs": [],
   "source": [
    "from geopy.geocoders import Nominatim"
   ]
  },
  {
   "cell_type": "code",
   "execution_count": 37,
   "metadata": {},
   "outputs": [
    {
     "name": "stdout",
     "output_type": "stream",
     "text": [
      "The geograpical coordinate of hyderbad city are 17.23092405, 78.431848261532.\n"
     ]
    }
   ],
   "source": [
    "address = \"India, HYD\"\n",
    "\n",
    "geolocator = Nominatim(user_agent=\"Hyderabad_explorer\")\n",
    "location = geolocator.geocode(address)\n",
    "latitude = location.latitude\n",
    "longitude = location.longitude\n",
    "print('The geograpical coordinate of hyderbad city are {}, {}.'.format(latitude, longitude))"
   ]
  },
  {
   "cell_type": "code",
   "execution_count": null,
   "metadata": {},
   "outputs": [],
   "source": []
  }
 ],
 "metadata": {
  "kernelspec": {
   "display_name": "Python 3",
   "language": "python",
   "name": "python3"
  },
  "language_info": {
   "codemirror_mode": {
    "name": "ipython",
    "version": 3
   },
   "file_extension": ".py",
   "mimetype": "text/x-python",
   "name": "python",
   "nbconvert_exporter": "python",
   "pygments_lexer": "ipython3",
   "version": "3.7.6"
  }
 },
 "nbformat": 4,
 "nbformat_minor": 4
}
